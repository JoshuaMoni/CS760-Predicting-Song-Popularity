{
 "cells": [
  {
   "cell_type": "code",
   "execution_count": 1,
   "id": "6f7a80d0",
   "metadata": {
    "ExecuteTime": {
     "end_time": "2023-05-28T12:29:42.686545Z",
     "start_time": "2023-05-28T12:29:42.349352Z"
    }
   },
   "outputs": [
    {
     "data": {
      "text/html": [
       "<div>\n",
       "<style scoped>\n",
       "    .dataframe tbody tr th:only-of-type {\n",
       "        vertical-align: middle;\n",
       "    }\n",
       "\n",
       "    .dataframe tbody tr th {\n",
       "        vertical-align: top;\n",
       "    }\n",
       "\n",
       "    .dataframe thead th {\n",
       "        text-align: right;\n",
       "    }\n",
       "</style>\n",
       "<table border=\"1\" class=\"dataframe\">\n",
       "  <thead>\n",
       "    <tr style=\"text-align: right;\">\n",
       "      <th></th>\n",
       "      <th>acousticness</th>\n",
       "      <th>artist_popularity</th>\n",
       "      <th>danceability</th>\n",
       "      <th>duration_ms</th>\n",
       "      <th>energy</th>\n",
       "      <th>followers</th>\n",
       "      <th>instrumentalness</th>\n",
       "      <th>key</th>\n",
       "      <th>liveness</th>\n",
       "      <th>loudness</th>\n",
       "      <th>...</th>\n",
       "      <th>name</th>\n",
       "      <th>peak_pos</th>\n",
       "      <th>speechiness</th>\n",
       "      <th>tempo</th>\n",
       "      <th>time_signature</th>\n",
       "      <th>uri</th>\n",
       "      <th>valence</th>\n",
       "      <th>weeks</th>\n",
       "      <th>hit</th>\n",
       "      <th>popularity</th>\n",
       "    </tr>\n",
       "  </thead>\n",
       "  <tbody>\n",
       "    <tr>\n",
       "      <th>0</th>\n",
       "      <td>0.294</td>\n",
       "      <td>28</td>\n",
       "      <td>0.698</td>\n",
       "      <td>235584.0</td>\n",
       "      <td>0.606</td>\n",
       "      <td>425</td>\n",
       "      <td>0.000003</td>\n",
       "      <td>10</td>\n",
       "      <td>0.151</td>\n",
       "      <td>-7.447</td>\n",
       "      <td>...</td>\n",
       "      <td>Blood</td>\n",
       "      <td>0</td>\n",
       "      <td>0.0262</td>\n",
       "      <td>115.018</td>\n",
       "      <td>4</td>\n",
       "      <td>spotify:track:5qljLQuKnNJf4F4vfxQB0V</td>\n",
       "      <td>0.622</td>\n",
       "      <td>0</td>\n",
       "      <td>False</td>\n",
       "      <td>0.0</td>\n",
       "    </tr>\n",
       "    <tr>\n",
       "      <th>1</th>\n",
       "      <td>0.863</td>\n",
       "      <td>36</td>\n",
       "      <td>0.719</td>\n",
       "      <td>656960.0</td>\n",
       "      <td>0.308</td>\n",
       "      <td>2965</td>\n",
       "      <td>0.0</td>\n",
       "      <td>6</td>\n",
       "      <td>0.253</td>\n",
       "      <td>-10.34</td>\n",
       "      <td>...</td>\n",
       "      <td>The Ugly Duckling</td>\n",
       "      <td>0</td>\n",
       "      <td>0.922</td>\n",
       "      <td>115.075</td>\n",
       "      <td>3</td>\n",
       "      <td>spotify:track:3VAX2MJdmdqARLSU5hPMpm</td>\n",
       "      <td>0.589</td>\n",
       "      <td>0</td>\n",
       "      <td>False</td>\n",
       "      <td>0.0</td>\n",
       "    </tr>\n",
       "    <tr>\n",
       "      <th>2</th>\n",
       "      <td>0.763</td>\n",
       "      <td>10</td>\n",
       "      <td>0.719</td>\n",
       "      <td>316578.0</td>\n",
       "      <td>0.126</td>\n",
       "      <td>158</td>\n",
       "      <td>0.0</td>\n",
       "      <td>3</td>\n",
       "      <td>0.113</td>\n",
       "      <td>-20.254</td>\n",
       "      <td>...</td>\n",
       "      <td>The Crime At Pickets Mill</td>\n",
       "      <td>0</td>\n",
       "      <td>0.938</td>\n",
       "      <td>112.822</td>\n",
       "      <td>3</td>\n",
       "      <td>spotify:track:6aCe9zzoZmCojX7bbgKKtf</td>\n",
       "      <td>0.533</td>\n",
       "      <td>0</td>\n",
       "      <td>False</td>\n",
       "      <td>0.0</td>\n",
       "    </tr>\n",
       "    <tr>\n",
       "      <th>3</th>\n",
       "      <td>0.971</td>\n",
       "      <td>62</td>\n",
       "      <td>0.367</td>\n",
       "      <td>183653.0</td>\n",
       "      <td>0.349</td>\n",
       "      <td>201820</td>\n",
       "      <td>0.296</td>\n",
       "      <td>11</td>\n",
       "      <td>0.633</td>\n",
       "      <td>-7.74</td>\n",
       "      <td>...</td>\n",
       "      <td>Already Gone</td>\n",
       "      <td>0</td>\n",
       "      <td>0.0268</td>\n",
       "      <td>81.85</td>\n",
       "      <td>4</td>\n",
       "      <td>spotify:track:4PrAZpH9Ic7S47E78BN6E4</td>\n",
       "      <td>0.192</td>\n",
       "      <td>0</td>\n",
       "      <td>False</td>\n",
       "      <td>0.0</td>\n",
       "    </tr>\n",
       "    <tr>\n",
       "      <th>4</th>\n",
       "      <td>0.824</td>\n",
       "      <td>36</td>\n",
       "      <td>0.688</td>\n",
       "      <td>29240.0</td>\n",
       "      <td>0.304</td>\n",
       "      <td>2965</td>\n",
       "      <td>0.0</td>\n",
       "      <td>10</td>\n",
       "      <td>0.142</td>\n",
       "      <td>-9.96</td>\n",
       "      <td>...</td>\n",
       "      <td>Three Blind Mice</td>\n",
       "      <td>0</td>\n",
       "      <td>0.531</td>\n",
       "      <td>77.056</td>\n",
       "      <td>3</td>\n",
       "      <td>spotify:track:1WJzRtI1ABzV3TPIeJZVvi</td>\n",
       "      <td>0.414</td>\n",
       "      <td>0</td>\n",
       "      <td>False</td>\n",
       "      <td>0.0</td>\n",
       "    </tr>\n",
       "  </tbody>\n",
       "</table>\n",
       "<p>5 rows × 22 columns</p>\n",
       "</div>"
      ],
      "text/plain": [
       "  acousticness  artist_popularity danceability duration_ms energy  followers   \n",
       "0        0.294                 28        0.698    235584.0  0.606        425  \\\n",
       "1        0.863                 36        0.719    656960.0  0.308       2965   \n",
       "2        0.763                 10        0.719    316578.0  0.126        158   \n",
       "3        0.971                 62        0.367    183653.0  0.349     201820   \n",
       "4        0.824                 36        0.688     29240.0  0.304       2965   \n",
       "\n",
       "  instrumentalness  key liveness loudness  ...                       name   \n",
       "0         0.000003   10    0.151   -7.447  ...                      Blood  \\\n",
       "1              0.0    6    0.253   -10.34  ...          The Ugly Duckling   \n",
       "2              0.0    3    0.113  -20.254  ...  The Crime At Pickets Mill   \n",
       "3            0.296   11    0.633    -7.74  ...               Already Gone   \n",
       "4              0.0   10    0.142    -9.96  ...           Three Blind Mice   \n",
       "\n",
       "   peak_pos speechiness    tempo time_signature   \n",
       "0         0      0.0262  115.018              4  \\\n",
       "1         0       0.922  115.075              3   \n",
       "2         0       0.938  112.822              3   \n",
       "3         0      0.0268    81.85              4   \n",
       "4         0       0.531   77.056              3   \n",
       "\n",
       "                                    uri  valence weeks    hit  popularity  \n",
       "0  spotify:track:5qljLQuKnNJf4F4vfxQB0V    0.622     0  False         0.0  \n",
       "1  spotify:track:3VAX2MJdmdqARLSU5hPMpm    0.589     0  False         0.0  \n",
       "2  spotify:track:6aCe9zzoZmCojX7bbgKKtf    0.533     0  False         0.0  \n",
       "3  spotify:track:4PrAZpH9Ic7S47E78BN6E4    0.192     0  False         0.0  \n",
       "4  spotify:track:1WJzRtI1ABzV3TPIeJZVvi    0.414     0  False         0.0  \n",
       "\n",
       "[5 rows x 22 columns]"
      ]
     },
     "execution_count": 1,
     "metadata": {},
     "output_type": "execute_result"
    }
   ],
   "source": [
    "import pandas as pd\n",
    "\n",
    "final_dataset = pd.read_pickle('final_dataset.pkl')\n",
    "final_dataset.head()"
   ]
  },
  {
   "cell_type": "code",
   "execution_count": 2,
   "id": "8951747e",
   "metadata": {
    "ExecuteTime": {
     "end_time": "2023-05-28T12:29:43.048178Z",
     "start_time": "2023-05-28T12:29:42.688386Z"
    }
   },
   "outputs": [
    {
     "data": {
      "text/plain": [
       "((40152, 22), (10038, 22))"
      ]
     },
     "execution_count": 2,
     "metadata": {},
     "output_type": "execute_result"
    }
   ],
   "source": [
    "from sklearn.model_selection import train_test_split\n",
    "\n",
    "train, test = train_test_split(final_dataset, test_size=0.2, random_state=42)\n",
    "train.shape, test.shape"
   ]
  },
  {
   "cell_type": "code",
   "execution_count": 3,
   "id": "206e054d",
   "metadata": {
    "ExecuteTime": {
     "end_time": "2023-05-28T12:29:43.058126Z",
     "start_time": "2023-05-28T12:29:43.049782Z"
    }
   },
   "outputs": [
    {
     "data": {
      "text/plain": [
       "(40152, 13)"
      ]
     },
     "execution_count": 3,
     "metadata": {},
     "output_type": "execute_result"
    }
   ],
   "source": [
    "shortened_dataset = train[['energy', 'liveness', 'tempo', 'speechiness', 'acousticness',\n",
    "                             'instrumentalness', 'time_signature', 'danceability', 'key',\n",
    "                             'duration_ms', 'loudness', 'valence', 'mode']]\n",
    "X = shortened_dataset\n",
    "X.shape"
   ]
  },
  {
   "cell_type": "code",
   "execution_count": 4,
   "id": "6e7df776",
   "metadata": {
    "ExecuteTime": {
     "end_time": "2023-05-28T12:29:43.065401Z",
     "start_time": "2023-05-28T12:29:43.060636Z"
    }
   },
   "outputs": [
    {
     "data": {
      "text/plain": [
       "(10038, 13)"
      ]
     },
     "execution_count": 4,
     "metadata": {},
     "output_type": "execute_result"
    }
   ],
   "source": [
    "shortened_dataset_test = test[['energy', 'liveness', 'tempo', 'speechiness', 'acousticness',\n",
    "                             'instrumentalness', 'time_signature', 'danceability', 'key',\n",
    "                             'duration_ms', 'loudness', 'valence', 'mode']]\n",
    "X_test = shortened_dataset_test\n",
    "X_test.shape"
   ]
  },
  {
   "cell_type": "code",
   "execution_count": 5,
   "id": "3fbef119",
   "metadata": {
    "ExecuteTime": {
     "end_time": "2023-05-28T12:29:43.090030Z",
     "start_time": "2023-05-28T12:29:43.066770Z"
    }
   },
   "outputs": [
    {
     "name": "stdout",
     "output_type": "stream",
     "text": [
      "<class 'pandas.core.frame.DataFrame'>\n",
      "Index: 40152 entries, 23745 to 15795\n",
      "Data columns (total 13 columns):\n",
      " #   Column            Non-Null Count  Dtype \n",
      "---  ------            --------------  ----- \n",
      " 0   energy            40152 non-null  object\n",
      " 1   liveness          40152 non-null  object\n",
      " 2   tempo             40152 non-null  object\n",
      " 3   speechiness       40152 non-null  object\n",
      " 4   acousticness      40152 non-null  object\n",
      " 5   instrumentalness  40152 non-null  object\n",
      " 6   time_signature    40152 non-null  int16 \n",
      " 7   danceability      40152 non-null  object\n",
      " 8   key               40152 non-null  int32 \n",
      " 9   duration_ms       40152 non-null  object\n",
      " 10  loudness          40152 non-null  object\n",
      " 11  valence           40152 non-null  object\n",
      " 12  mode              40152 non-null  int16 \n",
      "dtypes: int16(2), int32(1), object(10)\n",
      "memory usage: 3.7+ MB\n"
     ]
    }
   ],
   "source": [
    "X.info()"
   ]
  },
  {
   "cell_type": "code",
   "execution_count": 6,
   "id": "47ccf795",
   "metadata": {
    "ExecuteTime": {
     "end_time": "2023-05-28T12:29:43.121401Z",
     "start_time": "2023-05-28T12:29:43.091552Z"
    }
   },
   "outputs": [
    {
     "name": "stdout",
     "output_type": "stream",
     "text": [
      "<class 'pandas.core.frame.DataFrame'>\n",
      "Index: 40152 entries, 23745 to 15795\n",
      "Data columns (total 13 columns):\n",
      " #   Column            Non-Null Count  Dtype  \n",
      "---  ------            --------------  -----  \n",
      " 0   energy            40152 non-null  float64\n",
      " 1   liveness          40152 non-null  float64\n",
      " 2   tempo             40152 non-null  float64\n",
      " 3   speechiness       40152 non-null  float64\n",
      " 4   acousticness      40152 non-null  float64\n",
      " 5   instrumentalness  40152 non-null  float64\n",
      " 6   time_signature    40152 non-null  float64\n",
      " 7   danceability      40152 non-null  float64\n",
      " 8   key               40152 non-null  float64\n",
      " 9   duration_ms       40152 non-null  float64\n",
      " 10  loudness          40152 non-null  float64\n",
      " 11  valence           40152 non-null  float64\n",
      " 12  mode              40152 non-null  float64\n",
      "dtypes: float64(13)\n",
      "memory usage: 4.3 MB\n"
     ]
    }
   ],
   "source": [
    "X = X.astype(float)\n",
    "X_test = X_test.astype(float)\n",
    "X.info()"
   ]
  },
  {
   "cell_type": "code",
   "execution_count": 7,
   "id": "74f089de",
   "metadata": {
    "ExecuteTime": {
     "end_time": "2023-05-28T12:29:43.126408Z",
     "start_time": "2023-05-28T12:29:43.122936Z"
    }
   },
   "outputs": [
    {
     "data": {
      "text/plain": [
       "(40152, 1)"
      ]
     },
     "execution_count": 7,
     "metadata": {},
     "output_type": "execute_result"
    }
   ],
   "source": [
    "y_pop = train[['peak_pos']]\n",
    "y_pop_test = test[['peak_pos']]\n",
    "y_pop.shape"
   ]
  },
  {
   "cell_type": "code",
   "execution_count": 8,
   "id": "4d780976",
   "metadata": {
    "ExecuteTime": {
     "end_time": "2023-05-28T12:29:43.193372Z",
     "start_time": "2023-05-28T12:29:43.127604Z"
    }
   },
   "outputs": [],
   "source": [
    "from morfist import MixedRandomForest, cross_validation\n",
    "from sklearn.ensemble import RandomForestRegressor, RandomForestClassifier\n",
    "from sklearn.model_selection import cross_validate\n",
    "import numpy as np"
   ]
  },
  {
   "cell_type": "code",
   "execution_count": 9,
   "id": "1bceb887",
   "metadata": {
    "ExecuteTime": {
     "end_time": "2023-05-28T12:29:43.196583Z",
     "start_time": "2023-05-28T12:29:43.194867Z"
    }
   },
   "outputs": [],
   "source": [
    "# Config\n",
    "n_trees = 11\n",
    "nfolds = 2"
   ]
  },
  {
   "cell_type": "code",
   "execution_count": 10,
   "id": "3f3d6bdc",
   "metadata": {
    "ExecuteTime": {
     "end_time": "2023-05-28T12:29:43.204470Z",
     "start_time": "2023-05-28T12:29:43.199509Z"
    }
   },
   "outputs": [],
   "source": [
    "# Data\n",
    "X, y_pop = X.values, y_pop.values\n",
    "x_reg, y_reg = X, y_pop.ravel()\n",
    "x_mix_1, y_mix_1 = x_reg, np.vstack([y_reg, y_reg < y_reg.mean()]).T\n",
    "\n",
    "# Test\n",
    "X_test, y_pop_test = X_test.values, y_pop_test.values\n",
    "x_reg_test, y_reg_test = X_test, y_pop_test.ravel()\n",
    "x_mix_1_test, y_mix_1_test = x_reg_test, np.vstack([y_reg_test, y_reg_test < y_reg_test.mean()]).T"
   ]
  },
  {
   "cell_type": "code",
   "execution_count": 11,
   "id": "cc3da3c1",
   "metadata": {
    "ExecuteTime": {
     "end_time": "2023-05-28T12:29:43.208545Z",
     "start_time": "2023-05-28T12:29:43.205834Z"
    }
   },
   "outputs": [
    {
     "data": {
      "text/plain": [
       "((40152, 13), (40152,), (40152, 13), (40152, 2))"
      ]
     },
     "execution_count": 11,
     "metadata": {},
     "output_type": "execute_result"
    }
   ],
   "source": [
    "x_reg.shape, y_reg.shape, x_mix_1.shape, y_mix_1.shape"
   ]
  },
  {
   "cell_type": "code",
   "execution_count": 12,
   "id": "67977929",
   "metadata": {
    "ExecuteTime": {
     "end_time": "2023-05-28T12:29:43.212463Z",
     "start_time": "2023-05-28T12:29:43.209925Z"
    }
   },
   "outputs": [],
   "source": [
    "def test_reg():\n",
    "    reg_rf = MixedRandomForest(\n",
    "        n_estimators=n_trees,\n",
    "        min_samples_leaf=5\n",
    "    )\n",
    "\n",
    "    reg_skrf = RandomForestRegressor(n_estimators=n_trees)\n",
    "    reg_scores = cross_validation(\n",
    "        reg_rf,\n",
    "        x_reg,\n",
    "        y_reg,\n",
    "        folds=nfolds,\n",
    "        verbose=1\n",
    "    )\n",
    "\n",
    "    scores = cross_validate(\n",
    "        reg_skrf,\n",
    "        x_reg,\n",
    "        y_reg,\n",
    "        scoring=('neg_mean_squared_error')\n",
    "    )\n",
    "\n",
    "    print('Regression: ')\n",
    "    print(f'\\tmorfist (rmse): {reg_scores.mean()}')\n",
    "    print('\\tscikit-learn')\n",
    "    print(f'\\t\\t rmse: {np.sqrt(-scores[\"test_score\"].mean())}')\n",
    "    \n",
    "    return reg_skrf, reg_rf"
   ]
  },
  {
   "cell_type": "code",
   "execution_count": 13,
   "id": "8f503a68",
   "metadata": {
    "ExecuteTime": {
     "end_time": "2023-05-28T12:30:10.403693Z",
     "start_time": "2023-05-28T12:29:43.213825Z"
    }
   },
   "outputs": [
    {
     "name": "stdout",
     "output_type": "stream",
     "text": [
      "######### Train ###########\n",
      "Running fold 1 of 2 ...\n",
      "Running fold 2 of 2 ...\n",
      "Regression: \n",
      "\tmorfist (rmse): 17.134520933768155\n",
      "\tscikit-learn\n",
      "\t\t rmse: 17.973554068402876\n"
     ]
    }
   ],
   "source": [
    "print('######### Train ###########')\n",
    "reg_skrf, reg_rf = test_reg()"
   ]
  },
  {
   "cell_type": "code",
   "execution_count": 14,
   "id": "c3ade825",
   "metadata": {
    "ExecuteTime": {
     "end_time": "2023-05-28T12:30:17.380745Z",
     "start_time": "2023-05-28T12:30:10.405165Z"
    }
   },
   "outputs": [
    {
     "name": "stdout",
     "output_type": "stream",
     "text": [
      "######### Test ############\n",
      "Running fold 1 of 2 ...\n",
      "Running fold 2 of 2 ...\n",
      "Regression: \n",
      "\tmorfist (rmse): 17.074456942546966\n",
      "\tscikit-learn\n",
      "\t\t rmse: 17.767470008395758\n"
     ]
    }
   ],
   "source": [
    "print('######### Test ############')\n",
    "reg_scores = cross_validation(\n",
    "    reg_rf,\n",
    "    x_reg_test,\n",
    "    y_reg_test,\n",
    "    folds=nfolds,\n",
    "    verbose=1\n",
    ")\n",
    "\n",
    "scores = cross_validate(\n",
    "    reg_skrf,\n",
    "    x_reg_test,\n",
    "    y_reg_test,\n",
    "    scoring=('neg_mean_squared_error')\n",
    ")\n",
    "\n",
    "print('Regression: ')\n",
    "print(f'\\tmorfist (rmse): {reg_scores.mean()}')\n",
    "print('\\tscikit-learn')\n",
    "print(f'\\t\\t rmse: {np.sqrt(-scores[\"test_score\"].mean())}')"
   ]
  },
  {
   "cell_type": "code",
   "execution_count": 15,
   "id": "336e0817",
   "metadata": {
    "ExecuteTime": {
     "end_time": "2023-05-28T12:30:17.384622Z",
     "start_time": "2023-05-28T12:30:17.382119Z"
    }
   },
   "outputs": [],
   "source": [
    "def test_mix_1():\n",
    "    mix_rf = MixedRandomForest(\n",
    "        n_estimators=n_trees,\n",
    "        min_samples_leaf=5,\n",
    "        class_targets=[1]\n",
    "    )\n",
    "\n",
    "    mix_scores = cross_validation(\n",
    "        mix_rf,\n",
    "        x_mix_1,\n",
    "        y_mix_1,\n",
    "        folds=nfolds,\n",
    "        verbose=1,\n",
    "        class_targets=[1]\n",
    "    )\n",
    "    print('Mixed output: ')\n",
    "    print(f'\\ttask 1 (original) (rmse): {mix_scores[0]}')\n",
    "    print(f'\\ttask 2 (additional) (accuracy): {mix_scores[1]}')\n",
    "    \n",
    "    return mix_rf"
   ]
  },
  {
   "cell_type": "code",
   "execution_count": 16,
   "id": "4afa92cf",
   "metadata": {
    "ExecuteTime": {
     "end_time": "2023-05-28T12:30:54.588254Z",
     "start_time": "2023-05-28T12:30:17.385852Z"
    }
   },
   "outputs": [
    {
     "name": "stdout",
     "output_type": "stream",
     "text": [
      "Running fold 1 of 2 ...\n"
     ]
    },
    {
     "name": "stderr",
     "output_type": "stream",
     "text": [
      "/Volumes/Data/PyCharm/RandomForest/morfist/core.py:266: FutureWarning: Unlike other reduction functions (e.g. `skew`, `kurtosis`), the default behavior of `mode` typically preserves the axis it acts along. In SciPy 1.11.0, this behavior will change: the default value of `keepdims` will become False, the `axis` over which the statistic is taken will be eliminated, and the value None will no longer be accepted. Set `keepdims` to True or False to avoid this warning.\n",
      "  pred_avg[:, i], _ = scipy.stats.mode(pred[:, i, :].T)\n"
     ]
    },
    {
     "name": "stdout",
     "output_type": "stream",
     "text": [
      "Running fold 2 of 2 ...\n",
      "Mixed output: \n",
      "\ttask 1 (original) (rmse): 16.933083609869865\n",
      "\ttask 2 (additional) (accuracy): 0.9015242080095637\n"
     ]
    }
   ],
   "source": [
    "mix_rf = test_mix_1()"
   ]
  },
  {
   "cell_type": "code",
   "execution_count": 17,
   "id": "a9e41252",
   "metadata": {
    "ExecuteTime": {
     "end_time": "2023-05-28T12:31:03.777554Z",
     "start_time": "2023-05-28T12:30:54.589672Z"
    }
   },
   "outputs": [
    {
     "name": "stdout",
     "output_type": "stream",
     "text": [
      "######## Test ############\n",
      "Running fold 1 of 2 ...\n",
      "Running fold 2 of 2 ...\n",
      "Mixed output: \n",
      "\ttask 1 (original) (rmse): 16.835958585251475\n",
      "\ttask 2 (additional) (accuracy): 0.9005778043434948\n"
     ]
    }
   ],
   "source": [
    "print('######## Test ############')\n",
    "mix_rf = MixedRandomForest(\n",
    "    n_estimators=n_trees,\n",
    "    min_samples_leaf=5,\n",
    "    class_targets=[1]\n",
    ")\n",
    "\n",
    "mix_scores = cross_validation(\n",
    "    mix_rf,\n",
    "    x_mix_1_test,\n",
    "    y_mix_1_test,\n",
    "    folds=nfolds,\n",
    "    verbose=1,\n",
    "    class_targets=[1]\n",
    ")\n",
    "print('Mixed output: ')\n",
    "print(f'\\ttask 1 (original) (rmse): {mix_scores[0]}')\n",
    "print(f'\\ttask 2 (additional) (accuracy): {mix_scores[1]}')"
   ]
  },
  {
   "cell_type": "code",
   "execution_count": null,
   "id": "d38c8227",
   "metadata": {},
   "outputs": [],
   "source": []
  }
 ],
 "metadata": {
  "kernelspec": {
   "display_name": "Python 3 (ipykernel)",
   "language": "python",
   "name": "python3"
  },
  "language_info": {
   "codemirror_mode": {
    "name": "ipython",
    "version": 3
   },
   "file_extension": ".py",
   "mimetype": "text/x-python",
   "name": "python",
   "nbconvert_exporter": "python",
   "pygments_lexer": "ipython3",
   "version": "3.10.11"
  }
 },
 "nbformat": 4,
 "nbformat_minor": 5
}
