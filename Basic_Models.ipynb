{
 "cells": [
  {
   "cell_type": "code",
   "execution_count": 3,
   "metadata": {},
   "outputs": [
    {
     "name": "stdout",
     "output_type": "stream",
     "text": [
      "Torch Version: 2.0.0\n",
      "Using GPU: True\n"
     ]
    }
   ],
   "source": [
    "import pandas as pd \n",
    "import numpy as np \n",
    "import matplotlib.pyplot as plt \n",
    "\n",
    "# ML library imports \n",
    "import torch\n",
    "#import tensorflow as tf\n",
    "import sklearn, scipy\n",
    "from tqdm import tqdm\n",
    "\n",
    "# Checking versions\n",
    "print(f\"Torch Version: {torch.__version__}\")\n",
    "print(f\"Using GPU: {torch.cuda.is_available()}\")"
   ]
  },
  {
   "cell_type": "code",
   "execution_count": 12,
   "metadata": {},
   "outputs": [],
   "source": [
    "from sklearn.preprocessing import StandardScaler, MinMaxScaler\n",
    "from sklearn.svm import SVC, SVR\n",
    "from sklearn.linear_model import LogisticRegression,LinearRegression\n",
    "from sklearn.neural_network import MLPClassifier\n",
    "from sklearn.metrics import classification_report, f1_score, confusion_matrix, mean_squared_error, mean_absolute_error\n",
    "from sklearn.utils import resample\n",
    "from sklearn.ensemble import RandomForestClassifier\n",
    "\n",
    "TASK = 'REG'\n",
    "\n",
    "data = pd.read_pickle(\"../final_dataset_splits.pkl\")\n",
    "train = data[data.train].drop(['train'], axis=1)\n",
    "test = data[~data.train].drop(['train'], axis=1)\n",
    "\n",
    "X_train = train[['acousticness',  'danceability', 'duration_ms',\n",
    "       'energy', 'instrumentalness', 'key', 'liveness',\n",
    "       'loudness', 'speechiness', 'tempo', 'valence', \n",
    "       'artist_popularity', 'followers',]]\n",
    "\n",
    "X_test = test[['acousticness',  'danceability', 'duration_ms',\n",
    "       'energy', 'instrumentalness', 'key', 'liveness',\n",
    "       'loudness', 'speechiness', 'tempo', 'valence', \n",
    "       'artist_popularity', 'followers',]]\n",
    "\n",
    "y_train = train[['popularity','hit',]]\n",
    "y_test = test[['popularity','hit',]]\n",
    "\n",
    "scaler = StandardScaler()\n",
    "X_train = scaler.fit_transform(X_train.values)\n",
    "X_test = scaler.transform(X_test.values)"
   ]
  },
  {
   "cell_type": "code",
   "execution_count": 13,
   "metadata": {},
   "outputs": [],
   "source": [
    "if TASK == 'REG': \n",
    "    Y_train = y_train['popularity'].values \n",
    "    Y_test = y_test['popularity'].values\n",
    "    \n",
    "elif TASK == 'CLAS': \n",
    "    Y_train = y_train['hit'].values \n",
    "    Y_test = y_test['hit'].values\n",
    "    \n",
    "else: \n",
    "    Y_train = y_train.values \n",
    "    Y_test = y_test.values"
   ]
  },
  {
   "attachments": {},
   "cell_type": "markdown",
   "metadata": {},
   "source": [
    "# Classification"
   ]
  },
  {
   "cell_type": "code",
   "execution_count": 14,
   "metadata": {},
   "outputs": [],
   "source": [
    "if TASK == 'CLAS':\n",
    "    rfc = RandomForestClassifier(n_estimators=100, random_state=0)\n",
    "    rfc.fit(X_train, Y_train)\n",
    "    y_pred = rfc.predict(X_test)\n",
    "    print(\"RandomForest Classification Report:\")\n",
    "    print(classification_report(Y_test, y_pred))\n",
    "\n",
    "    svm = SVC(kernel='rbf', random_state=0)\n",
    "    svm.fit(X_train, Y_train)\n",
    "    svm_preds = svm.predict(X_test)\n",
    "    print(\"SVM Classification Report:\")\n",
    "    print(classification_report(Y_test, svm_preds))\n",
    "\n",
    "    lr = LogisticRegression(random_state=0)\n",
    "    lr.fit(X_train, Y_train)\n",
    "    lr_preds = lr.predict(X_test)\n",
    "    print(\"Logistic Regression Classification Report:\")\n",
    "    print(classification_report(Y_test, lr_preds))"
   ]
  },
  {
   "attachments": {},
   "cell_type": "markdown",
   "metadata": {},
   "source": [
    "# Regression"
   ]
  },
  {
   "cell_type": "code",
   "execution_count": 15,
   "metadata": {},
   "outputs": [
    {
     "name": "stdout",
     "output_type": "stream",
     "text": [
      "SVM (Linear) Report:\n",
      "mean_squared_error: 464.31\n",
      "root_mean_squared_error: 21.55\n",
      "mean_absolute_error: 14.71\n",
      "\n",
      "SVM (RBF) Report:\n",
      "mean_squared_error: 350.51\n",
      "root_mean_squared_error: 18.72\n",
      "mean_absolute_error: 13.18\n",
      "\n",
      "LR Report:\n",
      "mean_squared_error: 405.83\n",
      "root_mean_squared_error: 20.15\n",
      "mean_absolute_error: 17.64\n"
     ]
    }
   ],
   "source": [
    "if TASK == 'REG':\n",
    "    svm = SVR(kernel='linear')\n",
    "    svm.fit(X_train, Y_train)\n",
    "    svm_preds = svm.predict(X_test)\n",
    "    print(\"SVM (Linear) Report:\")\n",
    "    print(f\"mean_squared_error: {mean_squared_error(Y_test, svm_preds):.2f}\")\n",
    "    print(f\"root_mean_squared_error: {mean_squared_error(Y_test, svm_preds) ** 0.5:.2f}\")\n",
    "    print(f\"mean_absolute_error: {mean_absolute_error(Y_test, svm_preds):.2f}\\n\")\n",
    "\n",
    "    svm = SVR(kernel='rbf')\n",
    "    svm.fit(X_train, Y_train)\n",
    "    svm_preds = svm.predict(X_test)\n",
    "    print(\"SVM (RBF) Report:\")\n",
    "    print(f\"mean_squared_error: {mean_squared_error(Y_test, svm_preds):.2f}\")\n",
    "    print(f\"root_mean_squared_error: {mean_squared_error(Y_test, svm_preds) ** 0.5:.2f}\")\n",
    "    print(f\"mean_absolute_error: {mean_absolute_error(Y_test, svm_preds):.2f}\\n\")\n",
    "\n",
    "    lr = LinearRegression()\n",
    "    lr.fit(X_train, Y_train)\n",
    "    lr_preds = lr.predict(X_test)\n",
    "    print(\"LR Report:\")\n",
    "    print(f\"mean_squared_error: {mean_squared_error(Y_test, lr_preds):.2f}\")\n",
    "    print(f\"root_mean_squared_error: {mean_squared_error(Y_test, lr_preds) ** 0.5:.2f}\")\n",
    "    print(f\"mean_absolute_error: {mean_absolute_error(Y_test, lr_preds):.2f}\")"
   ]
  }
 ],
 "metadata": {
  "kernelspec": {
   "display_name": "song_pop",
   "language": "python",
   "name": "python3"
  },
  "language_info": {
   "codemirror_mode": {
    "name": "ipython",
    "version": 3
   },
   "file_extension": ".py",
   "mimetype": "text/x-python",
   "name": "python",
   "nbconvert_exporter": "python",
   "pygments_lexer": "ipython3",
   "version": "3.9.16"
  },
  "orig_nbformat": 4
 },
 "nbformat": 4,
 "nbformat_minor": 2
}
